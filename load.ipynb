{
 "cells": [
  {
   "cell_type": "code",
   "id": "initial_id",
   "metadata": {
    "collapsed": true,
    "ExecuteTime": {
     "end_time": "2024-05-29T15:23:20.530842Z",
     "start_time": "2024-05-29T15:23:20.248676Z"
    }
   },
   "source": [
    "import json\n",
    "import os\n",
    "import pandas as pd\n",
    "from src.mtbl_globals import DIR_EXTRACT, DIR_TRANSFORM"
   ],
   "outputs": [],
   "execution_count": 1
  },
  {
   "metadata": {
    "ExecuteTime": {
     "end_time": "2024-05-29T15:23:20.549102Z",
     "start_time": "2024-05-29T15:23:20.531728Z"
    }
   },
   "cell_type": "code",
   "source": [
    "positions = {}\n",
    "files = ['mtbl_c.json', 'mtbl_1b.json', 'mtbl_2b.json', 'mtbl_3b.json', 'mtbl_ss.json', 'mtbl_of.json', 'mtbl_dh.json', 'mtbl_rp.json', 'mtbl_sp.json']\n",
    "for file in os.listdir(DIR_TRANSFORM):\n",
    "    if file in files:\n",
    "        file_path = os.path.join(DIR_TRANSFORM, file)\n",
    "        with open(file_path, 'rb') as f:\n",
    "            data = json.load(f)['data']\n",
    "            \n",
    "        pos = file.split('_')[1].split('.')[0]\n",
    "            \n",
    "        df = pd.DataFrame(data)\n",
    "        positions[pos] = df"
   ],
   "id": "daa67ae750ee88f",
   "outputs": [],
   "execution_count": 2
  },
  {
   "metadata": {
    "ExecuteTime": {
     "end_time": "2024-05-29T15:28:46.347965Z",
     "start_time": "2024-05-29T15:27:13.690667Z"
    }
   },
   "cell_type": "code",
   "source": [
    "for pos, df in positions.items():\n",
    "    print(pos)\n",
    "    print(df.head())"
   ],
   "id": "25aa5580aa2210ab",
   "outputs": [
    {
     "name": "stdout",
     "output_type": "stream",
     "text": [
      "3b\n",
      "    ESPNID FANGRAPHSID   MLBID              name team     positions  proj_G  \\\n",
      "0    32801       13510  608070      Jose Ramirez  CLE      [3B, DH]     103   \n",
      "1    42507       26289  683002  Gunnar Henderson  BAL      [3B, SS]     106   \n",
      "2    33859       17350  646240     Rafael Devers  BOS          [3B]     102   \n",
      "3    34982       18360  663586      Austin Riley  ATL          [3B]     104   \n",
      "4  4722857       26323  668715     Spencer Steer  CIN  [1B, 3B, OF]      92   \n",
      "\n",
      "   proj_PA  proj_AB  proj_H  ...  z_proj_SLG    z_total  pri_pos  R_shekels  \\\n",
      "0      443      393      56  ...    1.640995  10.506938       3B   3.824941   \n",
      "1      463      407      55  ...    1.592364  10.144637       3B   4.182922   \n",
      "2      442      390      56  ...    1.829778   8.985643       3B   3.760716   \n",
      "3      451      402      59  ...    1.715630   8.412536       3B   3.887722   \n",
      "4      395      347      47  ...    0.698752   6.611491       3B   2.818203   \n",
      "\n",
      "   HR_shekels  RBI_shekels  SBN_shekels  OBP_shekels  SLG_shekels    shekels  \n",
      "0    6.000903     2.898124     6.422654     4.352470     5.185269  28.684362  \n",
      "1    8.237291     2.680607     4.988497     4.154568     5.031602  29.275488  \n",
      "2    8.921031     3.234607     0.368363     4.669508     5.781792  26.736017  \n",
      "3    8.237291     2.967833     0.000000     4.304289     5.421103  24.818237  \n",
      "4    0.000000     1.621676     4.063170     3.884519     2.207939  14.595507  \n",
      "\n",
      "[5 rows x 83 columns]\n",
      "rp\n"
     ]
    },
    {
     "ename": "KeyboardInterrupt",
     "evalue": "",
     "output_type": "error",
     "traceback": [
      "\u001B[0;31m---------------------------------------------------------------------------\u001B[0m",
      "\u001B[0;31mKeyboardInterrupt\u001B[0m                         Traceback (most recent call last)",
      "Cell \u001B[0;32mIn[6], line 3\u001B[0m\n\u001B[1;32m      1\u001B[0m \u001B[38;5;28;01mfor\u001B[39;00m pos, df \u001B[38;5;129;01min\u001B[39;00m positions\u001B[38;5;241m.\u001B[39mitems():\n\u001B[1;32m      2\u001B[0m     \u001B[38;5;28mprint\u001B[39m(pos)\n\u001B[0;32m----> 3\u001B[0m     \u001B[38;5;28mprint\u001B[39m(df\u001B[38;5;241m.\u001B[39mhead())\n",
      "File \u001B[0;32m_pydevd_bundle/pydevd_cython_darwin_312_64.pyx:1187\u001B[0m, in \u001B[0;36m_pydevd_bundle.pydevd_cython_darwin_312_64.SafeCallWrapper.__call__\u001B[0;34m()\u001B[0m\n",
      "File \u001B[0;32m_pydevd_bundle/pydevd_cython_darwin_312_64.pyx:627\u001B[0m, in \u001B[0;36m_pydevd_bundle.pydevd_cython_darwin_312_64.PyDBFrame.trace_dispatch\u001B[0;34m()\u001B[0m\n",
      "File \u001B[0;32m_pydevd_bundle/pydevd_cython_darwin_312_64.pyx:937\u001B[0m, in \u001B[0;36m_pydevd_bundle.pydevd_cython_darwin_312_64.PyDBFrame.trace_dispatch\u001B[0;34m()\u001B[0m\n",
      "File \u001B[0;32m_pydevd_bundle/pydevd_cython_darwin_312_64.pyx:928\u001B[0m, in \u001B[0;36m_pydevd_bundle.pydevd_cython_darwin_312_64.PyDBFrame.trace_dispatch\u001B[0;34m()\u001B[0m\n",
      "File \u001B[0;32m_pydevd_bundle/pydevd_cython_darwin_312_64.pyx:585\u001B[0m, in \u001B[0;36m_pydevd_bundle.pydevd_cython_darwin_312_64.PyDBFrame.do_wait_suspend\u001B[0;34m()\u001B[0m\n",
      "File \u001B[0;32m~/Applications/DataSpell.app/Contents/plugins/python-ce/helpers/pydev/pydevd.py:1185\u001B[0m, in \u001B[0;36mPyDB.do_wait_suspend\u001B[0;34m(self, thread, frame, event, arg, send_suspend_message, is_unhandled_exception)\u001B[0m\n\u001B[1;32m   1182\u001B[0m         from_this_thread\u001B[38;5;241m.\u001B[39mappend(frame_id)\n\u001B[1;32m   1184\u001B[0m \u001B[38;5;28;01mwith\u001B[39;00m \u001B[38;5;28mself\u001B[39m\u001B[38;5;241m.\u001B[39m_threads_suspended_single_notification\u001B[38;5;241m.\u001B[39mnotify_thread_suspended(thread_id, stop_reason):\n\u001B[0;32m-> 1185\u001B[0m     \u001B[38;5;28;43mself\u001B[39;49m\u001B[38;5;241;43m.\u001B[39;49m\u001B[43m_do_wait_suspend\u001B[49m\u001B[43m(\u001B[49m\u001B[43mthread\u001B[49m\u001B[43m,\u001B[49m\u001B[43m \u001B[49m\u001B[43mframe\u001B[49m\u001B[43m,\u001B[49m\u001B[43m \u001B[49m\u001B[43mevent\u001B[49m\u001B[43m,\u001B[49m\u001B[43m \u001B[49m\u001B[43marg\u001B[49m\u001B[43m,\u001B[49m\u001B[43m \u001B[49m\u001B[43msuspend_type\u001B[49m\u001B[43m,\u001B[49m\u001B[43m \u001B[49m\u001B[43mfrom_this_thread\u001B[49m\u001B[43m)\u001B[49m\n",
      "File \u001B[0;32m~/Applications/DataSpell.app/Contents/plugins/python-ce/helpers/pydev/pydevd.py:1200\u001B[0m, in \u001B[0;36mPyDB._do_wait_suspend\u001B[0;34m(self, thread, frame, event, arg, suspend_type, from_this_thread)\u001B[0m\n\u001B[1;32m   1197\u001B[0m             \u001B[38;5;28mself\u001B[39m\u001B[38;5;241m.\u001B[39m_call_mpl_hook()\n\u001B[1;32m   1199\u001B[0m         \u001B[38;5;28mself\u001B[39m\u001B[38;5;241m.\u001B[39mprocess_internal_commands()\n\u001B[0;32m-> 1200\u001B[0m         \u001B[43mtime\u001B[49m\u001B[38;5;241;43m.\u001B[39;49m\u001B[43msleep\u001B[49m\u001B[43m(\u001B[49m\u001B[38;5;241;43m0.01\u001B[39;49m\u001B[43m)\u001B[49m\n\u001B[1;32m   1202\u001B[0m \u001B[38;5;28mself\u001B[39m\u001B[38;5;241m.\u001B[39mcancel_async_evaluation(get_current_thread_id(thread), \u001B[38;5;28mstr\u001B[39m(\u001B[38;5;28mid\u001B[39m(frame)))\n\u001B[1;32m   1204\u001B[0m \u001B[38;5;66;03m# process any stepping instructions\u001B[39;00m\n",
      "\u001B[0;31mKeyboardInterrupt\u001B[0m: "
     ]
    }
   ],
   "execution_count": 6
  },
  {
   "metadata": {
    "ExecuteTime": {
     "end_time": "2024-05-29T15:26:33.201282Z",
     "start_time": "2024-05-29T15:26:33.196987Z"
    }
   },
   "cell_type": "code",
   "source": "",
   "id": "fb929dc8502271fb",
   "outputs": [],
   "execution_count": 4
  }
 ],
 "metadata": {
  "kernelspec": {
   "display_name": "Python 3",
   "language": "python",
   "name": "python3"
  },
  "language_info": {
   "codemirror_mode": {
    "name": "ipython",
    "version": 2
   },
   "file_extension": ".py",
   "mimetype": "text/x-python",
   "name": "python",
   "nbconvert_exporter": "python",
   "pygments_lexer": "ipython2",
   "version": "2.7.6"
  }
 },
 "nbformat": 4,
 "nbformat_minor": 5
}
