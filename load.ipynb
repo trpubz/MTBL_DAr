{
 "cells": [
  {
   "cell_type": "code",
   "id": "initial_id",
   "metadata": {
    "collapsed": true,
    "ExecuteTime": {
     "end_time": "2024-05-29T14:40:11.642406Z",
     "start_time": "2024-05-29T14:40:11.639701Z"
    }
   },
   "source": [
    "import json\n",
    "from io import StringIO\n",
    "import os\n",
    "import pandas as pd\n",
    "import pyarrow\n",
    "from src.mtbl_globals import DIR_EXTRACT, DIR_TRANSFORM"
   ],
   "outputs": [],
   "execution_count": 40
  },
  {
   "metadata": {
    "ExecuteTime": {
     "end_time": "2024-05-29T14:40:13.148788Z",
     "start_time": "2024-05-29T14:40:13.084384Z"
    }
   },
   "cell_type": "code",
   "source": [
    "positions = {}\n",
    "for file in os.listdir(DIR_TRANSFORM):\n",
    "    file_path = os.path.join(DIR_TRANSFORM, file)\n",
    "    pos = file.split('_')[1].split('.')[0]\n",
    "        \n",
    "    df = pd.read_json(file_path, orient='table', dtype_backend='pyarrow')\n",
    "    positions[pos] = df"
   ],
   "id": "daa67ae750ee88f",
   "outputs": [
    {
     "ename": "NameError",
     "evalue": "name 'ArrowDtype' is not defined",
     "output_type": "error",
     "traceback": [
      "\u001B[0;31m---------------------------------------------------------------------------\u001B[0m",
      "\u001B[0;31mNameError\u001B[0m                                 Traceback (most recent call last)",
      "Cell \u001B[0;32mIn[41], line 6\u001B[0m\n\u001B[1;32m      3\u001B[0m file_path \u001B[38;5;241m=\u001B[39m os\u001B[38;5;241m.\u001B[39mpath\u001B[38;5;241m.\u001B[39mjoin(DIR_TRANSFORM, file)\n\u001B[1;32m      4\u001B[0m pos \u001B[38;5;241m=\u001B[39m file\u001B[38;5;241m.\u001B[39msplit(\u001B[38;5;124m'\u001B[39m\u001B[38;5;124m_\u001B[39m\u001B[38;5;124m'\u001B[39m)[\u001B[38;5;241m1\u001B[39m]\u001B[38;5;241m.\u001B[39msplit(\u001B[38;5;124m'\u001B[39m\u001B[38;5;124m.\u001B[39m\u001B[38;5;124m'\u001B[39m)[\u001B[38;5;241m0\u001B[39m]\n\u001B[0;32m----> 6\u001B[0m df \u001B[38;5;241m=\u001B[39m \u001B[43mpd\u001B[49m\u001B[38;5;241;43m.\u001B[39;49m\u001B[43mread_json\u001B[49m\u001B[43m(\u001B[49m\u001B[43mfile_path\u001B[49m\u001B[43m,\u001B[49m\u001B[43m \u001B[49m\u001B[43morient\u001B[49m\u001B[38;5;241;43m=\u001B[39;49m\u001B[38;5;124;43m'\u001B[39;49m\u001B[38;5;124;43mtable\u001B[39;49m\u001B[38;5;124;43m'\u001B[39;49m\u001B[43m,\u001B[49m\u001B[43m \u001B[49m\u001B[43mdtype_backend\u001B[49m\u001B[38;5;241;43m=\u001B[39;49m\u001B[38;5;124;43m'\u001B[39;49m\u001B[38;5;124;43mpyarrow\u001B[39;49m\u001B[38;5;124;43m'\u001B[39;49m\u001B[43m)\u001B[49m\n\u001B[1;32m      7\u001B[0m positions[pos] \u001B[38;5;241m=\u001B[39m df\n",
      "File \u001B[0;32m/Users/Shared/BaseballHQ/tools/MTBL_DA/MTBL_DAr/.venv/lib/python3.12/site-packages/pandas/io/json/_json.py:815\u001B[0m, in \u001B[0;36mread_json\u001B[0;34m(path_or_buf, orient, typ, dtype, convert_axes, convert_dates, keep_default_dates, precise_float, date_unit, encoding, encoding_errors, lines, chunksize, compression, nrows, storage_options, dtype_backend, engine)\u001B[0m\n\u001B[1;32m    813\u001B[0m     \u001B[38;5;28;01mreturn\u001B[39;00m json_reader\n\u001B[1;32m    814\u001B[0m \u001B[38;5;28;01melse\u001B[39;00m:\n\u001B[0;32m--> 815\u001B[0m     \u001B[38;5;28;01mreturn\u001B[39;00m \u001B[43mjson_reader\u001B[49m\u001B[38;5;241;43m.\u001B[39;49m\u001B[43mread\u001B[49m\u001B[43m(\u001B[49m\u001B[43m)\u001B[49m\n",
      "File \u001B[0;32m/Users/Shared/BaseballHQ/tools/MTBL_DA/MTBL_DAr/.venv/lib/python3.12/site-packages/pandas/io/json/_json.py:1027\u001B[0m, in \u001B[0;36mJsonReader.read\u001B[0;34m(self)\u001B[0m\n\u001B[1;32m   1025\u001B[0m     obj \u001B[38;5;241m=\u001B[39m \u001B[38;5;28mself\u001B[39m\u001B[38;5;241m.\u001B[39m_get_object_parser(\u001B[38;5;28mself\u001B[39m\u001B[38;5;241m.\u001B[39mdata)\n\u001B[1;32m   1026\u001B[0m \u001B[38;5;28;01mif\u001B[39;00m \u001B[38;5;28mself\u001B[39m\u001B[38;5;241m.\u001B[39mdtype_backend \u001B[38;5;129;01mis\u001B[39;00m \u001B[38;5;129;01mnot\u001B[39;00m lib\u001B[38;5;241m.\u001B[39mno_default:\n\u001B[0;32m-> 1027\u001B[0m     \u001B[38;5;28;01mreturn\u001B[39;00m \u001B[43mobj\u001B[49m\u001B[38;5;241;43m.\u001B[39;49m\u001B[43mconvert_dtypes\u001B[49m\u001B[43m(\u001B[49m\n\u001B[1;32m   1028\u001B[0m \u001B[43m        \u001B[49m\u001B[43minfer_objects\u001B[49m\u001B[38;5;241;43m=\u001B[39;49m\u001B[38;5;28;43;01mFalse\u001B[39;49;00m\u001B[43m,\u001B[49m\u001B[43m \u001B[49m\u001B[43mdtype_backend\u001B[49m\u001B[38;5;241;43m=\u001B[39;49m\u001B[38;5;28;43mself\u001B[39;49m\u001B[38;5;241;43m.\u001B[39;49m\u001B[43mdtype_backend\u001B[49m\n\u001B[1;32m   1029\u001B[0m \u001B[43m    \u001B[49m\u001B[43m)\u001B[49m\n\u001B[1;32m   1030\u001B[0m \u001B[38;5;28;01melse\u001B[39;00m:\n\u001B[1;32m   1031\u001B[0m     \u001B[38;5;28;01mreturn\u001B[39;00m obj\n",
      "File \u001B[0;32m/Users/Shared/BaseballHQ/tools/MTBL_DA/MTBL_DAr/.venv/lib/python3.12/site-packages/pandas/core/generic.py:7031\u001B[0m, in \u001B[0;36mNDFrame.convert_dtypes\u001B[0;34m(self, infer_objects, convert_string, convert_integer, convert_boolean, convert_floating, dtype_backend)\u001B[0m\n\u001B[1;32m   6902\u001B[0m \u001B[38;5;250m\u001B[39m\u001B[38;5;124;03m\"\"\"\u001B[39;00m\n\u001B[1;32m   6903\u001B[0m \u001B[38;5;124;03mConvert columns to the best possible dtypes using dtypes supporting ``pd.NA``.\u001B[39;00m\n\u001B[1;32m   6904\u001B[0m \n\u001B[0;32m   (...)\u001B[0m\n\u001B[1;32m   7028\u001B[0m \u001B[38;5;124;03mdtype: string\u001B[39;00m\n\u001B[1;32m   7029\u001B[0m \u001B[38;5;124;03m\"\"\"\u001B[39;00m\n\u001B[1;32m   7030\u001B[0m check_dtype_backend(dtype_backend)\n\u001B[0;32m-> 7031\u001B[0m new_mgr \u001B[38;5;241m=\u001B[39m \u001B[38;5;28;43mself\u001B[39;49m\u001B[38;5;241;43m.\u001B[39;49m\u001B[43m_mgr\u001B[49m\u001B[38;5;241;43m.\u001B[39;49m\u001B[43mconvert_dtypes\u001B[49m\u001B[43m(\u001B[49m\u001B[43m  \u001B[49m\u001B[38;5;66;43;03m# type: ignore[union-attr]\u001B[39;49;00m\n\u001B[1;32m   7032\u001B[0m \u001B[43m    \u001B[49m\u001B[43minfer_objects\u001B[49m\u001B[38;5;241;43m=\u001B[39;49m\u001B[43minfer_objects\u001B[49m\u001B[43m,\u001B[49m\n\u001B[1;32m   7033\u001B[0m \u001B[43m    \u001B[49m\u001B[43mconvert_string\u001B[49m\u001B[38;5;241;43m=\u001B[39;49m\u001B[43mconvert_string\u001B[49m\u001B[43m,\u001B[49m\n\u001B[1;32m   7034\u001B[0m \u001B[43m    \u001B[49m\u001B[43mconvert_integer\u001B[49m\u001B[38;5;241;43m=\u001B[39;49m\u001B[43mconvert_integer\u001B[49m\u001B[43m,\u001B[49m\n\u001B[1;32m   7035\u001B[0m \u001B[43m    \u001B[49m\u001B[43mconvert_boolean\u001B[49m\u001B[38;5;241;43m=\u001B[39;49m\u001B[43mconvert_boolean\u001B[49m\u001B[43m,\u001B[49m\n\u001B[1;32m   7036\u001B[0m \u001B[43m    \u001B[49m\u001B[43mconvert_floating\u001B[49m\u001B[38;5;241;43m=\u001B[39;49m\u001B[43mconvert_floating\u001B[49m\u001B[43m,\u001B[49m\n\u001B[1;32m   7037\u001B[0m \u001B[43m    \u001B[49m\u001B[43mdtype_backend\u001B[49m\u001B[38;5;241;43m=\u001B[39;49m\u001B[43mdtype_backend\u001B[49m\u001B[43m,\u001B[49m\n\u001B[1;32m   7038\u001B[0m \u001B[43m\u001B[49m\u001B[43m)\u001B[49m\n\u001B[1;32m   7039\u001B[0m res \u001B[38;5;241m=\u001B[39m \u001B[38;5;28mself\u001B[39m\u001B[38;5;241m.\u001B[39m_constructor_from_mgr(new_mgr, axes\u001B[38;5;241m=\u001B[39mnew_mgr\u001B[38;5;241m.\u001B[39maxes)\n\u001B[1;32m   7040\u001B[0m \u001B[38;5;28;01mreturn\u001B[39;00m res\u001B[38;5;241m.\u001B[39m__finalize__(\u001B[38;5;28mself\u001B[39m, method\u001B[38;5;241m=\u001B[39m\u001B[38;5;124m\"\u001B[39m\u001B[38;5;124mconvert_dtypes\u001B[39m\u001B[38;5;124m\"\u001B[39m)\n",
      "File \u001B[0;32m/Users/Shared/BaseballHQ/tools/MTBL_DA/MTBL_DAr/.venv/lib/python3.12/site-packages/pandas/core/internals/managers.py:455\u001B[0m, in \u001B[0;36mBaseBlockManager.convert_dtypes\u001B[0;34m(self, **kwargs)\u001B[0m\n\u001B[1;32m    452\u001B[0m \u001B[38;5;28;01melse\u001B[39;00m:\n\u001B[1;32m    453\u001B[0m     copy \u001B[38;5;241m=\u001B[39m \u001B[38;5;28;01mTrue\u001B[39;00m\n\u001B[0;32m--> 455\u001B[0m \u001B[38;5;28;01mreturn\u001B[39;00m \u001B[38;5;28;43mself\u001B[39;49m\u001B[38;5;241;43m.\u001B[39;49m\u001B[43mapply\u001B[49m\u001B[43m(\u001B[49m\n\u001B[1;32m    456\u001B[0m \u001B[43m    \u001B[49m\u001B[38;5;124;43m\"\u001B[39;49m\u001B[38;5;124;43mconvert_dtypes\u001B[39;49m\u001B[38;5;124;43m\"\u001B[39;49m\u001B[43m,\u001B[49m\u001B[43m \u001B[49m\u001B[43mcopy\u001B[49m\u001B[38;5;241;43m=\u001B[39;49m\u001B[43mcopy\u001B[49m\u001B[43m,\u001B[49m\u001B[43m \u001B[49m\u001B[43musing_cow\u001B[49m\u001B[38;5;241;43m=\u001B[39;49m\u001B[43musing_copy_on_write\u001B[49m\u001B[43m(\u001B[49m\u001B[43m)\u001B[49m\u001B[43m,\u001B[49m\u001B[43m \u001B[49m\u001B[38;5;241;43m*\u001B[39;49m\u001B[38;5;241;43m*\u001B[39;49m\u001B[43mkwargs\u001B[49m\n\u001B[1;32m    457\u001B[0m \u001B[43m\u001B[49m\u001B[43m)\u001B[49m\n",
      "File \u001B[0;32m/Users/Shared/BaseballHQ/tools/MTBL_DA/MTBL_DAr/.venv/lib/python3.12/site-packages/pandas/core/internals/managers.py:363\u001B[0m, in \u001B[0;36mBaseBlockManager.apply\u001B[0;34m(self, f, align_keys, **kwargs)\u001B[0m\n\u001B[1;32m    361\u001B[0m         applied \u001B[38;5;241m=\u001B[39m b\u001B[38;5;241m.\u001B[39mapply(f, \u001B[38;5;241m*\u001B[39m\u001B[38;5;241m*\u001B[39mkwargs)\n\u001B[1;32m    362\u001B[0m     \u001B[38;5;28;01melse\u001B[39;00m:\n\u001B[0;32m--> 363\u001B[0m         applied \u001B[38;5;241m=\u001B[39m \u001B[38;5;28;43mgetattr\u001B[39;49m\u001B[43m(\u001B[49m\u001B[43mb\u001B[49m\u001B[43m,\u001B[49m\u001B[43m \u001B[49m\u001B[43mf\u001B[49m\u001B[43m)\u001B[49m\u001B[43m(\u001B[49m\u001B[38;5;241;43m*\u001B[39;49m\u001B[38;5;241;43m*\u001B[39;49m\u001B[43mkwargs\u001B[49m\u001B[43m)\u001B[49m\n\u001B[1;32m    364\u001B[0m     result_blocks \u001B[38;5;241m=\u001B[39m extend_blocks(applied, result_blocks)\n\u001B[1;32m    366\u001B[0m out \u001B[38;5;241m=\u001B[39m \u001B[38;5;28mtype\u001B[39m(\u001B[38;5;28mself\u001B[39m)\u001B[38;5;241m.\u001B[39mfrom_blocks(result_blocks, \u001B[38;5;28mself\u001B[39m\u001B[38;5;241m.\u001B[39maxes)\n",
      "File \u001B[0;32m/Users/Shared/BaseballHQ/tools/MTBL_DA/MTBL_DAr/.venv/lib/python3.12/site-packages/pandas/core/internals/blocks.py:695\u001B[0m, in \u001B[0;36mBlock.convert_dtypes\u001B[0;34m(self, copy, using_cow, infer_objects, convert_string, convert_integer, convert_boolean, convert_floating, dtype_backend)\u001B[0m\n\u001B[1;32m    691\u001B[0m \u001B[38;5;28;01mfor\u001B[39;00m blk \u001B[38;5;129;01min\u001B[39;00m blks:\n\u001B[1;32m    692\u001B[0m     \u001B[38;5;66;03m# Determine dtype column by column\u001B[39;00m\n\u001B[1;32m    693\u001B[0m     sub_blks \u001B[38;5;241m=\u001B[39m [blk] \u001B[38;5;28;01mif\u001B[39;00m blk\u001B[38;5;241m.\u001B[39mndim \u001B[38;5;241m==\u001B[39m \u001B[38;5;241m1\u001B[39m \u001B[38;5;129;01mor\u001B[39;00m \u001B[38;5;28mself\u001B[39m\u001B[38;5;241m.\u001B[39mshape[\u001B[38;5;241m0\u001B[39m] \u001B[38;5;241m==\u001B[39m \u001B[38;5;241m1\u001B[39m \u001B[38;5;28;01melse\u001B[39;00m blk\u001B[38;5;241m.\u001B[39m_split()\n\u001B[1;32m    694\u001B[0m     dtypes \u001B[38;5;241m=\u001B[39m [\n\u001B[0;32m--> 695\u001B[0m         \u001B[43mconvert_dtypes\u001B[49m\u001B[43m(\u001B[49m\n\u001B[1;32m    696\u001B[0m \u001B[43m            \u001B[49m\u001B[43mb\u001B[49m\u001B[38;5;241;43m.\u001B[39;49m\u001B[43mvalues\u001B[49m\u001B[43m,\u001B[49m\n\u001B[1;32m    697\u001B[0m \u001B[43m            \u001B[49m\u001B[43mconvert_string\u001B[49m\u001B[43m,\u001B[49m\n\u001B[1;32m    698\u001B[0m \u001B[43m            \u001B[49m\u001B[43mconvert_integer\u001B[49m\u001B[43m,\u001B[49m\n\u001B[1;32m    699\u001B[0m \u001B[43m            \u001B[49m\u001B[43mconvert_boolean\u001B[49m\u001B[43m,\u001B[49m\n\u001B[1;32m    700\u001B[0m \u001B[43m            \u001B[49m\u001B[43mconvert_floating\u001B[49m\u001B[43m,\u001B[49m\n\u001B[1;32m    701\u001B[0m \u001B[43m            \u001B[49m\u001B[43minfer_objects\u001B[49m\u001B[43m,\u001B[49m\n\u001B[1;32m    702\u001B[0m \u001B[43m            \u001B[49m\u001B[43mdtype_backend\u001B[49m\u001B[43m,\u001B[49m\n\u001B[1;32m    703\u001B[0m \u001B[43m        \u001B[49m\u001B[43m)\u001B[49m\n\u001B[1;32m    704\u001B[0m         \u001B[38;5;28;01mfor\u001B[39;00m b \u001B[38;5;129;01min\u001B[39;00m sub_blks\n\u001B[1;32m    705\u001B[0m     ]\n\u001B[1;32m    706\u001B[0m     \u001B[38;5;28;01mif\u001B[39;00m \u001B[38;5;28mall\u001B[39m(dtype \u001B[38;5;241m==\u001B[39m \u001B[38;5;28mself\u001B[39m\u001B[38;5;241m.\u001B[39mdtype \u001B[38;5;28;01mfor\u001B[39;00m dtype \u001B[38;5;129;01min\u001B[39;00m dtypes):\n\u001B[1;32m    707\u001B[0m         \u001B[38;5;66;03m# Avoid block splitting if no dtype changes\u001B[39;00m\n\u001B[1;32m    708\u001B[0m         rbs\u001B[38;5;241m.\u001B[39mappend(blk\u001B[38;5;241m.\u001B[39mcopy(deep\u001B[38;5;241m=\u001B[39mcopy))\n",
      "File \u001B[0;32m/Users/Shared/BaseballHQ/tools/MTBL_DA/MTBL_DAr/.venv/lib/python3.12/site-packages/pandas/core/dtypes/cast.py:1145\u001B[0m, in \u001B[0;36mconvert_dtypes\u001B[0;34m(input_array, convert_string, convert_integer, convert_boolean, convert_floating, infer_objects, dtype_backend)\u001B[0m\n\u001B[1;32m   1143\u001B[0m     pa_type \u001B[38;5;241m=\u001B[39m pa\u001B[38;5;241m.\u001B[39mnull()\n\u001B[1;32m   1144\u001B[0m \u001B[38;5;28;01melse\u001B[39;00m:\n\u001B[0;32m-> 1145\u001B[0m     pa_type \u001B[38;5;241m=\u001B[39m \u001B[43mto_pyarrow_type\u001B[49m\u001B[43m(\u001B[49m\u001B[43mbase_dtype\u001B[49m\u001B[43m)\u001B[49m\n\u001B[1;32m   1146\u001B[0m \u001B[38;5;28;01mif\u001B[39;00m pa_type \u001B[38;5;129;01mis\u001B[39;00m \u001B[38;5;129;01mnot\u001B[39;00m \u001B[38;5;28;01mNone\u001B[39;00m:\n\u001B[1;32m   1147\u001B[0m     inferred_dtype \u001B[38;5;241m=\u001B[39m ArrowDtype(pa_type)\n",
      "File \u001B[0;32m/Users/Shared/BaseballHQ/tools/MTBL_DA/MTBL_DAr/.venv/lib/python3.12/site-packages/pandas/core/arrays/arrow/array.py:221\u001B[0m, in \u001B[0;36mto_pyarrow_type\u001B[0;34m(dtype)\u001B[0m\n\u001B[1;32m    215\u001B[0m \u001B[38;5;28;01mdef\u001B[39;00m \u001B[38;5;21mto_pyarrow_type\u001B[39m(\n\u001B[1;32m    216\u001B[0m     dtype: ArrowDtype \u001B[38;5;241m|\u001B[39m pa\u001B[38;5;241m.\u001B[39mDataType \u001B[38;5;241m|\u001B[39m Dtype \u001B[38;5;241m|\u001B[39m \u001B[38;5;28;01mNone\u001B[39;00m,\n\u001B[1;32m    217\u001B[0m ) \u001B[38;5;241m-\u001B[39m\u001B[38;5;241m>\u001B[39m pa\u001B[38;5;241m.\u001B[39mDataType \u001B[38;5;241m|\u001B[39m \u001B[38;5;28;01mNone\u001B[39;00m:\n\u001B[1;32m    218\u001B[0m \u001B[38;5;250m    \u001B[39m\u001B[38;5;124;03m\"\"\"\u001B[39;00m\n\u001B[1;32m    219\u001B[0m \u001B[38;5;124;03m    Convert dtype to a pyarrow type instance.\u001B[39;00m\n\u001B[1;32m    220\u001B[0m \u001B[38;5;124;03m    \"\"\"\u001B[39;00m\n\u001B[0;32m--> 221\u001B[0m     \u001B[38;5;28;01mif\u001B[39;00m \u001B[38;5;28misinstance\u001B[39m(dtype, \u001B[43mArrowDtype\u001B[49m):\n\u001B[1;32m    222\u001B[0m         \u001B[38;5;28;01mreturn\u001B[39;00m dtype\u001B[38;5;241m.\u001B[39mpyarrow_dtype\n\u001B[1;32m    223\u001B[0m     \u001B[38;5;28;01melif\u001B[39;00m \u001B[38;5;28misinstance\u001B[39m(dtype, pa\u001B[38;5;241m.\u001B[39mDataType):\n",
      "\u001B[0;31mNameError\u001B[0m: name 'ArrowDtype' is not defined"
     ]
    }
   ],
   "execution_count": 41
  },
  {
   "metadata": {},
   "cell_type": "code",
   "outputs": [],
   "execution_count": null,
   "source": "",
   "id": "3f4048f7616507d4"
  }
 ],
 "metadata": {
  "kernelspec": {
   "display_name": "Python 3",
   "language": "python",
   "name": "python3"
  },
  "language_info": {
   "codemirror_mode": {
    "name": "ipython",
    "version": 2
   },
   "file_extension": ".py",
   "mimetype": "text/x-python",
   "name": "python",
   "nbconvert_exporter": "python",
   "pygments_lexer": "ipython2",
   "version": "2.7.6"
  }
 },
 "nbformat": 4,
 "nbformat_minor": 5
}
